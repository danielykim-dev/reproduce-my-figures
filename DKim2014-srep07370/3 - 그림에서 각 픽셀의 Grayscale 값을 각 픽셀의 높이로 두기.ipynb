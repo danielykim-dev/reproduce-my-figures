{
 "cells": [
  {
   "cell_type": "markdown",
   "metadata": {},
   "source": [
    "아래와 같이 그림을 읽고 확인하고 다룰 때 필요한 Library를 불러옵니다."
   ]
  },
  {
   "cell_type": "code",
   "execution_count": 1,
   "metadata": {
    "ExecuteTime": {
     "end_time": "2018-03-21T12:44:40.699336Z",
     "start_time": "2018-03-21T12:44:40.348371Z"
    }
   },
   "outputs": [],
   "source": [
    "import numpy as np\n",
    "\n",
    "import cv2\n",
    "import matplotlib.pyplot as plt\n",
    "\n",
    "%matplotlib inline"
   ]
  },
  {
   "cell_type": "markdown",
   "metadata": {},
   "source": [
    "그림 파일('crocus-3226433_640.jpg')은 아래 주소에서 내려받았습니다. 아래 그림은 Free License 입니다.\n",
    "- https://pixabay.com/ko/%ED%81%AC%EB%A1%9C%EC%BB%A4%EC%8A%A4-%EB%B4%84-%EA%BD%83-%EA%B0%9C%ED%99%94%EA%B8%B0-%EB%AA%A9%EC%B4%88%EC%A7%80-%EC%9E%90%EC%97%B0-%EC%9E%90%EC%A3%BC%EC%83%89-%ED%99%94%EC%9D%B4%ED%8A%B8-3226433/\n",
    "\n",
    "다른 파일을 내려받아 사용하셔도 됩니다."
   ]
  },
  {
   "cell_type": "markdown",
   "metadata": {},
   "source": [
    "이제 내려받은 그림 파일을 읽어봅시다.\n",
    "\n",
    "아래와 같이 그림 파일을 읽을 수 있습니다."
   ]
  },
  {
   "cell_type": "code",
   "execution_count": 2,
   "metadata": {
    "ExecuteTime": {
     "end_time": "2018-03-21T12:44:40.713331Z",
     "start_time": "2018-03-21T12:44:40.701335Z"
    }
   },
   "outputs": [],
   "source": [
    "img_bgr = cv2.imread('crocus-3226433_640.jpg')"
   ]
  },
  {
   "cell_type": "markdown",
   "metadata": {},
   "source": [
    "OpenCV 에서는 그림을 기본적으로 BGR 로 다루기 때문에 RGB로 바꿉니다."
   ]
  },
  {
   "cell_type": "code",
   "execution_count": 3,
   "metadata": {
    "ExecuteTime": {
     "end_time": "2018-03-21T12:44:41.653874Z",
     "start_time": "2018-03-21T12:44:40.715337Z"
    }
   },
   "outputs": [],
   "source": [
    "img_rgb = cv2.cvtColor(img_bgr, cv2.COLOR_BGR2RGB)"
   ]
  },
  {
   "cell_type": "markdown",
   "metadata": {},
   "source": [
    "RGB를 Grayscale로 바꿉니다. 사실 BGR에서 바로 Grayscale로 바꿔도 됩니다만 이해를 위해 이 과정을 넣었습니다."
   ]
  },
  {
   "cell_type": "code",
   "execution_count": 4,
   "metadata": {
    "ExecuteTime": {
     "end_time": "2018-03-21T12:44:41.658853Z",
     "start_time": "2018-03-21T12:44:41.655855Z"
    }
   },
   "outputs": [],
   "source": [
    "img_grayscale = cv2.cvtColor(img_rgb, cv2.COLOR_RGB2GRAY)"
   ]
  },
  {
   "cell_type": "markdown",
   "metadata": {},
   "source": [
    "과정 1과 2에서 그림을 확인했기 때문에 여기서는 그림을 확인하진 않겠습니다.\n",
    "\n",
    "RGB 그림은 컴퓨터 안에서 다음과 같은 형태로 저장되어있습니다.\n",
    "\n",
    "(세로, 가로, 색상)\n",
    "\n",
    "색상에는 R, G, B 이렇게 3가지 색상 채널 정보가 있어서 값이 3입니다. 각 색상 채널값의 범위는 다음과 같습니다.\n",
    "\n",
    "$0 \\le \\mathrm{R} \\le 255$\n",
    "\n",
    "$0 \\le \\mathrm{G} \\le 255$\n",
    "\n",
    "$0 \\le \\mathrm{B} \\le 255$"
   ]
  },
  {
   "cell_type": "code",
   "execution_count": 5,
   "metadata": {
    "ExecuteTime": {
     "end_time": "2018-03-21T12:44:41.672884Z",
     "start_time": "2018-03-21T12:44:41.660853Z"
    }
   },
   "outputs": [
    {
     "data": {
      "text/plain": [
       "(390, 640, 3)"
      ]
     },
     "execution_count": 5,
     "metadata": {},
     "output_type": "execute_result"
    }
   ],
   "source": [
    "img_rgb.shape"
   ]
  },
  {
   "cell_type": "markdown",
   "metadata": {},
   "source": [
    "Grayscale 그림은 컴퓨터 안에서 다음과 같은 형태로 저장되어있습니다.\n",
    "\n",
    "(세로, 가로)"
   ]
  },
  {
   "cell_type": "code",
   "execution_count": 6,
   "metadata": {
    "ExecuteTime": {
     "end_time": "2018-03-21T12:44:41.687925Z",
     "start_time": "2018-03-21T12:44:41.675909Z"
    }
   },
   "outputs": [
    {
     "data": {
      "text/plain": [
       "(390, 640)"
      ]
     },
     "execution_count": 6,
     "metadata": {},
     "output_type": "execute_result"
    }
   ],
   "source": [
    "img_grayscale.shape"
   ]
  },
  {
   "cell_type": "markdown",
   "metadata": {},
   "source": [
    "\n",
    "RGB와는 다르게 색상 채널 정보가 1개만 있어서 아래와 같은 형태입니다. 어떤 위치에 Grayscale의 값이 있는 형태입니다. Grayscale 값의 범위는 \n",
    "\n",
    "$0 \\le \\mathrm{Grayscale} \\le 255$\n",
    "\n",
    "입니다.\n",
    "\n",
    "\n",
    "<br/>\n",
    "\n",
    "\n",
    "이제 Grayscale 그림과 RGB 그림의 각 위치에 있는 정보를 모아서 파일로 써보겠습니다. Gnuplot 으로 표면 그림을 그리기 위해서 이렇게 파일로 만듭니다.\n",
    "\n",
    "파일에서 한 줄은 아래와 같은 의미입니다.\n",
    "  \n",
    "  (가로 위치, 세로 위치, R 채널 값, G 채널 값, B 채널 값, Grayscale 채널 값) \n",
    "  \n"
   ]
  },
  {
   "cell_type": "code",
   "execution_count": 7,
   "metadata": {
    "ExecuteTime": {
     "end_time": "2018-03-21T12:44:44.635768Z",
     "start_time": "2018-03-21T12:44:41.690933Z"
    }
   },
   "outputs": [],
   "source": [
    "out_str_list = []\n",
    "\n",
    "for position_index, grayscale_value in np.ndenumerate(img_grayscale):\n",
    "    y, x = position_index\n",
    "\n",
    "    r, g, b = img_rgb[y, x]\n",
    "\n",
    "    out_str_one_line = '\\t'.join(map(str,[x, y, r, g, b, grayscale_value]))\n",
    "    \n",
    "    out_str_list.append(out_str_one_line)"
   ]
  },
  {
   "cell_type": "code",
   "execution_count": 8,
   "metadata": {
    "ExecuteTime": {
     "end_time": "2018-03-21T12:44:44.688905Z",
     "start_time": "2018-03-21T12:44:44.636766Z"
    }
   },
   "outputs": [],
   "source": [
    "with open('crocus-3226433_640.jpg.txt', 'w') as txt_file:\n",
    "    joined_out_str = '\\n'.join(out_str_list)\n",
    "    \n",
    "    txt_file.write(joined_out_str)"
   ]
  }
 ],
 "metadata": {
  "kernelspec": {
   "display_name": "Python 3",
   "language": "python",
   "name": "python3"
  },
  "language_info": {
   "codemirror_mode": {
    "name": "ipython",
    "version": 3
   },
   "file_extension": ".py",
   "mimetype": "text/x-python",
   "name": "python",
   "nbconvert_exporter": "python",
   "pygments_lexer": "ipython3",
   "version": "3.6.3"
  },
  "varInspector": {
   "cols": {
    "lenName": 16,
    "lenType": 16,
    "lenVar": 40
   },
   "kernels_config": {
    "python": {
     "delete_cmd_postfix": "",
     "delete_cmd_prefix": "del ",
     "library": "var_list.py",
     "varRefreshCmd": "print(var_dic_list())"
    },
    "r": {
     "delete_cmd_postfix": ") ",
     "delete_cmd_prefix": "rm(",
     "library": "var_list.r",
     "varRefreshCmd": "cat(var_dic_list()) "
    }
   },
   "types_to_exclude": [
    "module",
    "function",
    "builtin_function_or_method",
    "instance",
    "_Feature"
   ],
   "window_display": false
  }
 },
 "nbformat": 4,
 "nbformat_minor": 2
}
